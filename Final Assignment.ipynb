{
 "cells": [
  {
   "cell_type": "markdown",
   "id": "21a7b395",
   "metadata": {},
   "source": [
    "# My Jupyter Notebook on IBM Watson Studio"
   ]
  },
  {
   "cell_type": "markdown",
   "id": "3eabe0e4",
   "metadata": {},
   "source": [
    "**Mariana Villa**\n",
    "\n",
    "Business Intelligence Analyst - Aspiring Data Scientist"
   ]
  },
  {
   "cell_type": "markdown",
   "id": "f39616e4",
   "metadata": {},
   "source": [
    "*I have worked with data analysis all my adult life and I jus can't wait to see what's next for me in my career, I wanna take the next step on this jurney cause I just love what I do*"
   ]
  },
  {
   "cell_type": "markdown",
   "id": "6b2915f0",
   "metadata": {},
   "source": [
    "### This code will request two numbers and add them at the end"
   ]
  },
  {
   "cell_type": "code",
   "execution_count": 1,
   "id": "e5491d95",
   "metadata": {},
   "outputs": [
    {
     "name": "stdout",
     "output_type": "stream",
     "text": [
      "Introduce el primer numero: 2\n",
      "Introduce el segundo numero: 3\n",
      "5\n"
     ]
    }
   ],
   "source": [
    "num1=int(input(\"Introduce el primer numero: \"))\n",
    "num2=int(input(\"Introduce el segundo numero: \"))\n",
    "val=num1+ num2\n",
    "print(val)"
   ]
  },
  {
   "cell_type": "markdown",
   "id": "a4519a38",
   "metadata": {},
   "source": [
    "_____________________________\n",
    "\n",
    "[Check my LinkedIn profile](https://www.linkedin.com/in/mariana-villa-rodr%C3%ADguez-110989)\n",
    "\n",
    "\n",
    "\n",
    "![alt text](https://images.credly.com/size/680x680/images/5fc2d535-e716-46c4-881a-f4822b8da0e5/Cognitive_Class_-_What_is_Data_Science.png \"Credential\")\n",
    "1. Don't miss  my Horizontal Rules 👇🏼👇🏼👇🏼\n",
    "__________________"
   ]
  },
  {
   "cell_type": "code",
   "execution_count": null,
   "id": "88e7734e",
   "metadata": {},
   "outputs": [],
   "source": []
  }
 ],
 "metadata": {
  "kernelspec": {
   "display_name": "Python 3",
   "language": "python",
   "name": "python3"
  },
  "language_info": {
   "codemirror_mode": {
    "name": "ipython",
    "version": 3
   },
   "file_extension": ".py",
   "mimetype": "text/x-python",
   "name": "python",
   "nbconvert_exporter": "python",
   "pygments_lexer": "ipython3",
   "version": "3.8.8"
  }
 },
 "nbformat": 4,
 "nbformat_minor": 5
}
